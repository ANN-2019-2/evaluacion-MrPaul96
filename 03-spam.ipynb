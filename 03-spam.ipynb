{
 "cells": [
  {
   "cell_type": "markdown",
   "metadata": {},
   "source": [
    "# Filtado de mensajes spam\n"
   ]
  },
  {
   "cell_type": "markdown",
   "metadata": {},
   "source": [
    "## Descripción del problema real"
   ]
  },
  {
   "cell_type": "markdown",
   "metadata": {},
   "source": [
    "La recepción de publicidad no deseada a traves mensajes de texto usando SMS (Short Message Service) es un problema que afecta a muchos usuarios de teléfonos móviles. El problema radica en que los usuarios deben pagar por los mesajes recibidos, y por este motivo resulta muy importante que las compañías prestadoras del servicio puedan filtrar mensajes indeseados antes de enviarlos a su destinatario final. Los mensajes tienen una longitud máxima de 160 caracteres, por lo que el texto resulta poco para realizar la clasificación, en comparación con textos más largos (como los emails). Adicionalmente, los errores de digitación dificultan el proceso de detección automática."
   ]
  },
  {
   "cell_type": "markdown",
   "metadata": {},
   "source": [
    "## Descripción del problema en términos de los datos"
   ]
  },
  {
   "cell_type": "markdown",
   "metadata": {},
   "source": [
    "Se tiene una muestra contiene 5574 mensajes en inglés, no codificados y clasificados como legítimos (ham) o spam (http://www.dt.fee.unicamp.br/~tiago/smsspamcollection/). La información está almacenada en el archivo `datos/spam-sms.zip`.El problema en términos de los datos consiste en clasificar si un mensaje SMS es legítico o spam, a partir del análisis de las palabras que contiente, partiendo del supuesto de que ciertas palabras que son más frecuentes dependiendo del tipo de mensaje. Esto implica que en la fase de preparación de los datos se deben extraer las palabras que contiene cada mensaje para poder realizar el análsis."
   ]
  },
  {
   "cell_type": "markdown",
   "metadata": {},
   "source": [
    "## Aproximaciones posibles"
   ]
  },
  {
   "cell_type": "markdown",
   "metadata": {},
   "source": [
    "En este caso, se desea comparar los resultados de un modelo de redes neuronales artificiales y otras técnicas estadísticas para realizar la clasificación."
   ]
  },
  {
   "cell_type": "markdown",
   "metadata": {},
   "source": [
    "## Requerimientos"
   ]
  },
  {
   "cell_type": "markdown",
   "metadata": {},
   "source": [
    "Usted debe:\n",
    "\n",
    "* Preprocesar los datos para representarlos usando bag-of-words.\n",
    "\n",
    "\n",
    "* Construir un modelo de regresión logística como punto base para la comparación con otros modelos más complejos.\n",
    "\n",
    "\n",
    "* Construir un modelo de redes neuronales artificiales. Asimismo, debe determinar el número de neuronas en la capa o capas ocultas.\n",
    "\n",
    "\n",
    "* Utiizar una técnica como crossvalidation u otra similar para establecer la robustez del modelo.\n",
    "\n",
    "\n",
    "* Presentar métricas de desempeño para establecer las bondades y falencias de cada clasificador."
   ]
  },
  {
   "cell_type": "markdown",
   "metadata": {},
   "source": [
    "## Solucion al ejercicio SPAM"
   ]
  },
  {
   "cell_type": "code",
   "execution_count": 7,
   "metadata": {},
   "outputs": [
    {
     "name": "stderr",
     "output_type": "stream",
     "text": [
      "[nltk_data] Downloading package stopwords to /home/paul96/nltk_data...\n",
      "[nltk_data]   Package stopwords is already up-to-date!\n",
      "[nltk_data] Downloading package punkt to /home/paul96/nltk_data...\n",
      "[nltk_data]   Package punkt is already up-to-date!\n",
      "[nltk_data] Downloading package words to /home/paul96/nltk_data...\n",
      "[nltk_data]   Package words is already up-to-date!\n"
     ]
    },
    {
     "data": {
      "text/plain": [
       "True"
      ]
     },
     "execution_count": 7,
     "metadata": {},
     "output_type": "execute_result"
    }
   ],
   "source": [
    "# IMPORTACION DE LIBRERIAS.\n",
    "import glob\n",
    "import re\n",
    "import random\n",
    "import pandas as pd\n",
    "import numpy as np\n",
    "import seaborn as sns\n",
    "import matplotlib.pyplot as plt\n",
    "import nltk\n",
    "%matplotlib inline\n",
    "\n",
    "from nltk.stem.porter import PorterStemmer\n",
    "\n",
    "import sklearn.neural_network\n",
    "from sklearn.feature_extraction.text import CountVectorizer\n",
    "from sklearn.metrics import plot_confusion_matrix\n",
    "from sklearn import linear_model\n",
    "from sklearn.metrics import confusion_matrix\n",
    "from sklearn.metrics import mean_absolute_error\n",
    "from sklearn.linear_model import LogisticRegression\n",
    "from sklearn.model_selection import cross_val_score\n",
    "\n",
    "nltk.download('stopwords')\n",
    "nltk.download('punkt')\n",
    "nltk.download('words')"
   ]
  },
  {
   "cell_type": "markdown",
   "metadata": {},
   "source": [
    "## Lectura de los datos"
   ]
  },
  {
   "cell_type": "markdown",
   "metadata": {},
   "source": [
    "* Procedemos a hacer la lectura de los datos para obtener el dataset de mensajes en inglés no codificados y clasificados como legítimos.\n",
    "\n",
    "http://www.dt.fee.unicamp.br/~tiago/smsspamcollection/).\n",
    "\n",
    "* Este ejercicio se hará en base al ejemplo del profesor:\n",
    "\n",
    "https://jdvelasq.github.io/courses/notebooks/sklearn/bayes/02-filtrado-de-mensajes-sms.html"
   ]
  },
  {
   "cell_type": "code",
   "execution_count": 9,
   "metadata": {},
   "outputs": [
    {
     "data": {
      "text/html": [
       "<div>\n",
       "<style scoped>\n",
       "    .dataframe tbody tr th:only-of-type {\n",
       "        vertical-align: middle;\n",
       "    }\n",
       "\n",
       "    .dataframe tbody tr th {\n",
       "        vertical-align: top;\n",
       "    }\n",
       "\n",
       "    .dataframe thead th {\n",
       "        text-align: right;\n",
       "    }\n",
       "</style>\n",
       "<table border=\"1\" class=\"dataframe\">\n",
       "  <thead>\n",
       "    <tr style=\"text-align: right;\">\n",
       "      <th></th>\n",
       "      <th>type</th>\n",
       "      <th>text</th>\n",
       "    </tr>\n",
       "  </thead>\n",
       "  <tbody>\n",
       "    <tr>\n",
       "      <th>0</th>\n",
       "      <td>ham</td>\n",
       "      <td>Go until jurong point, crazy.. Available only ...</td>\n",
       "    </tr>\n",
       "    <tr>\n",
       "      <th>1</th>\n",
       "      <td>ham</td>\n",
       "      <td>Ok lar... Joking wif u oni...</td>\n",
       "    </tr>\n",
       "    <tr>\n",
       "      <th>2</th>\n",
       "      <td>spam</td>\n",
       "      <td>Free entry in 2 a wkly comp to win FA Cup fina...</td>\n",
       "    </tr>\n",
       "    <tr>\n",
       "      <th>3</th>\n",
       "      <td>ham</td>\n",
       "      <td>U dun say so early hor... U c already then say...</td>\n",
       "    </tr>\n",
       "    <tr>\n",
       "      <th>4</th>\n",
       "      <td>ham</td>\n",
       "      <td>Nah I don't think he goes to usf, he lives aro...</td>\n",
       "    </tr>\n",
       "    <tr>\n",
       "      <th>5</th>\n",
       "      <td>spam</td>\n",
       "      <td>FreeMsg Hey there darling it's been 3 week's n...</td>\n",
       "    </tr>\n",
       "    <tr>\n",
       "      <th>6</th>\n",
       "      <td>ham</td>\n",
       "      <td>Even my brother is not like to speak with me. ...</td>\n",
       "    </tr>\n",
       "    <tr>\n",
       "      <th>7</th>\n",
       "      <td>ham</td>\n",
       "      <td>As per your request 'Melle Melle (Oru Minnamin...</td>\n",
       "    </tr>\n",
       "    <tr>\n",
       "      <th>8</th>\n",
       "      <td>spam</td>\n",
       "      <td>WINNER!! As a valued network customer you have...</td>\n",
       "    </tr>\n",
       "    <tr>\n",
       "      <th>9</th>\n",
       "      <td>spam</td>\n",
       "      <td>Had your mobile 11 months or more? U R entitle...</td>\n",
       "    </tr>\n",
       "    <tr>\n",
       "      <th>10</th>\n",
       "      <td>ham</td>\n",
       "      <td>I'm gonna be home soon and i don't want to tal...</td>\n",
       "    </tr>\n",
       "    <tr>\n",
       "      <th>11</th>\n",
       "      <td>spam</td>\n",
       "      <td>SIX chances to win CASH! From 100 to 20,000 po...</td>\n",
       "    </tr>\n",
       "    <tr>\n",
       "      <th>12</th>\n",
       "      <td>spam</td>\n",
       "      <td>URGENT! You have won a 1 week FREE membership ...</td>\n",
       "    </tr>\n",
       "    <tr>\n",
       "      <th>13</th>\n",
       "      <td>ham</td>\n",
       "      <td>I've been searching for the right words to tha...</td>\n",
       "    </tr>\n",
       "    <tr>\n",
       "      <th>14</th>\n",
       "      <td>ham</td>\n",
       "      <td>I HAVE A DATE ON SUNDAY WITH WILL!!</td>\n",
       "    </tr>\n",
       "    <tr>\n",
       "      <th>15</th>\n",
       "      <td>spam</td>\n",
       "      <td>XXXMobileMovieClub: To use your credit, click ...</td>\n",
       "    </tr>\n",
       "    <tr>\n",
       "      <th>16</th>\n",
       "      <td>ham</td>\n",
       "      <td>Oh k...i'm watching here:)</td>\n",
       "    </tr>\n",
       "    <tr>\n",
       "      <th>17</th>\n",
       "      <td>ham</td>\n",
       "      <td>Eh u remember how 2 spell his name... Yes i di...</td>\n",
       "    </tr>\n",
       "    <tr>\n",
       "      <th>18</th>\n",
       "      <td>ham</td>\n",
       "      <td>Fine if that's the way u feel. That's the way ...</td>\n",
       "    </tr>\n",
       "    <tr>\n",
       "      <th>19</th>\n",
       "      <td>spam</td>\n",
       "      <td>England v Macedonia - dont miss the goals/team...</td>\n",
       "    </tr>\n",
       "    <tr>\n",
       "      <th>20</th>\n",
       "      <td>ham</td>\n",
       "      <td>Is that seriously how you spell his name?</td>\n",
       "    </tr>\n",
       "    <tr>\n",
       "      <th>21</th>\n",
       "      <td>ham</td>\n",
       "      <td>Iâm going to try for 2 months ha ha only joking</td>\n",
       "    </tr>\n",
       "    <tr>\n",
       "      <th>22</th>\n",
       "      <td>ham</td>\n",
       "      <td>So Ã¼ pay first lar... Then when is da stock c...</td>\n",
       "    </tr>\n",
       "    <tr>\n",
       "      <th>23</th>\n",
       "      <td>ham</td>\n",
       "      <td>Aft i finish my lunch then i go str down lor. ...</td>\n",
       "    </tr>\n",
       "    <tr>\n",
       "      <th>24</th>\n",
       "      <td>ham</td>\n",
       "      <td>Ffffffffff. Alright no way I can meet up with ...</td>\n",
       "    </tr>\n",
       "    <tr>\n",
       "      <th>25</th>\n",
       "      <td>ham</td>\n",
       "      <td>Just forced myself to eat a slice. I'm really ...</td>\n",
       "    </tr>\n",
       "    <tr>\n",
       "      <th>26</th>\n",
       "      <td>ham</td>\n",
       "      <td>Lol your always so convincing.</td>\n",
       "    </tr>\n",
       "    <tr>\n",
       "      <th>27</th>\n",
       "      <td>ham</td>\n",
       "      <td>Did you catch the bus ? Are you frying an egg ...</td>\n",
       "    </tr>\n",
       "    <tr>\n",
       "      <th>28</th>\n",
       "      <td>ham</td>\n",
       "      <td>I'm back &amp;amp; we're packing the car now, I'll...</td>\n",
       "    </tr>\n",
       "    <tr>\n",
       "      <th>29</th>\n",
       "      <td>ham</td>\n",
       "      <td>Ahhh. Work. I vaguely remember that! What does...</td>\n",
       "    </tr>\n",
       "  </tbody>\n",
       "</table>\n",
       "</div>"
      ],
      "text/plain": [
       "    type                                               text\n",
       "0    ham  Go until jurong point, crazy.. Available only ...\n",
       "1    ham                      Ok lar... Joking wif u oni...\n",
       "2   spam  Free entry in 2 a wkly comp to win FA Cup fina...\n",
       "3    ham  U dun say so early hor... U c already then say...\n",
       "4    ham  Nah I don't think he goes to usf, he lives aro...\n",
       "5   spam  FreeMsg Hey there darling it's been 3 week's n...\n",
       "6    ham  Even my brother is not like to speak with me. ...\n",
       "7    ham  As per your request 'Melle Melle (Oru Minnamin...\n",
       "8   spam  WINNER!! As a valued network customer you have...\n",
       "9   spam  Had your mobile 11 months or more? U R entitle...\n",
       "10   ham  I'm gonna be home soon and i don't want to tal...\n",
       "11  spam  SIX chances to win CASH! From 100 to 20,000 po...\n",
       "12  spam  URGENT! You have won a 1 week FREE membership ...\n",
       "13   ham  I've been searching for the right words to tha...\n",
       "14   ham                I HAVE A DATE ON SUNDAY WITH WILL!!\n",
       "15  spam  XXXMobileMovieClub: To use your credit, click ...\n",
       "16   ham                         Oh k...i'm watching here:)\n",
       "17   ham  Eh u remember how 2 spell his name... Yes i di...\n",
       "18   ham  Fine if that's the way u feel. That's the way ...\n",
       "19  spam  England v Macedonia - dont miss the goals/team...\n",
       "20   ham          Is that seriously how you spell his name?\n",
       "21   ham  Iâm going to try for 2 months ha ha only joking\n",
       "22   ham  So Ã¼ pay first lar... Then when is da stock c...\n",
       "23   ham  Aft i finish my lunch then i go str down lor. ...\n",
       "24   ham  Ffffffffff. Alright no way I can meet up with ...\n",
       "25   ham  Just forced myself to eat a slice. I'm really ...\n",
       "26   ham                     Lol your always so convincing.\n",
       "27   ham  Did you catch the bus ? Are you frying an egg ...\n",
       "28   ham  I'm back &amp; we're packing the car now, I'll...\n",
       "29   ham  Ahhh. Work. I vaguely remember that! What does..."
      ]
     },
     "execution_count": 9,
     "metadata": {},
     "output_type": "execute_result"
    }
   ],
   "source": [
    "dataset = pd.read_csv(\n",
    "  \"https://raw.githubusercontent.com/jdvelasq/datalabs/master/datasets/sms-spam.csv\",\n",
    "  sep = ',',\n",
    "  thousands = None,\n",
    "  decimal = '.',\n",
    "  encoding='latin-1'\n",
    ")\n",
    "\n",
    "\n",
    "dataset.head(30)"
   ]
  },
  {
   "cell_type": "code",
   "execution_count": 10,
   "metadata": {},
   "outputs": [
    {
     "data": {
      "text/html": [
       "<div>\n",
       "<style scoped>\n",
       "    .dataframe tbody tr th:only-of-type {\n",
       "        vertical-align: middle;\n",
       "    }\n",
       "\n",
       "    .dataframe tbody tr th {\n",
       "        vertical-align: top;\n",
       "    }\n",
       "\n",
       "    .dataframe thead th {\n",
       "        text-align: right;\n",
       "    }\n",
       "</style>\n",
       "<table border=\"1\" class=\"dataframe\">\n",
       "  <thead>\n",
       "    <tr style=\"text-align: right;\">\n",
       "      <th></th>\n",
       "      <th>type</th>\n",
       "      <th>text</th>\n",
       "    </tr>\n",
       "  </thead>\n",
       "  <tbody>\n",
       "    <tr>\n",
       "      <th>count</th>\n",
       "      <td>5574</td>\n",
       "      <td>5574</td>\n",
       "    </tr>\n",
       "    <tr>\n",
       "      <th>unique</th>\n",
       "      <td>2</td>\n",
       "      <td>5160</td>\n",
       "    </tr>\n",
       "    <tr>\n",
       "      <th>top</th>\n",
       "      <td>ham</td>\n",
       "      <td>Sorry, I'll call later</td>\n",
       "    </tr>\n",
       "    <tr>\n",
       "      <th>freq</th>\n",
       "      <td>4827</td>\n",
       "      <td>30</td>\n",
       "    </tr>\n",
       "  </tbody>\n",
       "</table>\n",
       "</div>"
      ],
      "text/plain": [
       "        type                    text\n",
       "count   5574                    5574\n",
       "unique     2                    5160\n",
       "top      ham  Sorry, I'll call later\n",
       "freq    4827                      30"
      ]
     },
     "execution_count": 10,
     "metadata": {},
     "output_type": "execute_result"
    }
   ],
   "source": [
    "dataset.describe()"
   ]
  },
  {
   "cell_type": "markdown",
   "metadata": {},
   "source": [
    "## Cantidad de mensajes por tipo."
   ]
  },
  {
   "cell_type": "code",
   "execution_count": 11,
   "metadata": {},
   "outputs": [
    {
     "data": {
      "image/png": "[encoded data removed]",
      "text/plain": [
       "<Figure size 432x288 with 1 Axes>"
      ]
     },
     "metadata": {
      "needs_background": "light"
     },
     "output_type": "display_data"
    }
   ],
   "source": [
    "dataset.type.value_counts().plot.bar();"
   ]
  },
  {
   "cell_type": "code",
   "execution_count": 12,
   "metadata": {},
   "outputs": [],
   "source": [
    "dataset[\"text\"]= dataset[\"text\"].astype(str)"
   ]
  },
  {
   "cell_type": "markdown",
   "metadata": {},
   "source": [
    "## Preprocesamiento de los datos"
   ]
  },
  {
   "cell_type": "markdown",
   "metadata": {},
   "source": [
    "En el preprocesamiento se tendran en cuenta dos fases.\n",
    "\n",
    "* Limpieza del dataset por medio de funciones, eliminando numeros, tags, paginas, caracteres especiales, espacios, tabs, etc.\n",
    "\n",
    "* Aplicacion de un stemmer propuesto por el profesor, el cual es un algoritmo para reducir una palabra y eliminar conjugaciones."
   ]
  },
  {
   "cell_type": "code",
   "execution_count": 13,
   "metadata": {},
   "outputs": [],
   "source": [
    "def remove_special_characters(text):\n",
    "    return re.sub(\"[^A-Za-z0-9]+\", \" \", text)\n",
    "\n",
    "def remove_tags(text):\n",
    "    content = text[1]\n",
    "    TAG_RE = re.compile(r'<[^>]+>')\n",
    "    TAG_REX = re.compile(r\"\\s+\")\n",
    "    content = TAG_RE.sub('', content)\n",
    "    content = TAG_REX.sub(' ', content)\n",
    "    return content\n",
    "\n",
    "def remove_numbers(text):\n",
    "    content = text[1]\n",
    "    TAG_RE = re.compile(r'[0-9]*')\n",
    "    return TAG_RE.sub('', content)\n",
    "\n",
    "def remove_websites(text):\n",
    "    content = text[1]\n",
    "    TAG_RE = re.compile(r'https?:\\/\\/.*[\\n]*')\n",
    "    return TAG_RE.sub('', content)\n",
    "\n",
    "def remove_space_tabs(text):\n",
    "    content = text[1]\n",
    "    return content.replace(\"\\n\",\"\").strip(\"\\t\")\n",
    "\n",
    "def remove_stop_words(text):\n",
    "    from nltk.corpus import stopwords\n",
    "    \n",
    "    stop_words = set(stopwords.words('english'))\n",
    "    words = nltk.word_tokenize(text)\n",
    "    words_filtered = []\n",
    "\n",
    "    for word in words:\n",
    "        if word not in stop_words:\n",
    "            words_filtered.append(word)\n",
    "    \n",
    "    return \" \".join(words_filtered)\n",
    "\n",
    "def transform_to_lowercase(text):\n",
    "    return text.lower()\n",
    "\n",
    "def remove_emails(text):\n",
    "    return re.sub(\"[a-zA-Z0-9-_.]+@[a-zA-Z0-9-_.].+\", \"\", text)"
   ]
  },
  {
   "cell_type": "markdown",
   "metadata": {},
   "source": [
    "## PROCESO DE LIMPIEZA\n",
    "\n",
    "Se aplica sobre el dataset multiples funciones para limpiar los string."
   ]
  },
  {
   "cell_type": "code",
   "execution_count": 14,
   "metadata": {},
   "outputs": [
    {
     "data": {
      "text/html": [
       "<div>\n",
       "<style scoped>\n",
       "    .dataframe tbody tr th:only-of-type {\n",
       "        vertical-align: middle;\n",
       "    }\n",
       "\n",
       "    .dataframe tbody tr th {\n",
       "        vertical-align: top;\n",
       "    }\n",
       "\n",
       "    .dataframe thead th {\n",
       "        text-align: right;\n",
       "    }\n",
       "</style>\n",
       "<table border=\"1\" class=\"dataframe\">\n",
       "  <thead>\n",
       "    <tr style=\"text-align: right;\">\n",
       "      <th></th>\n",
       "      <th>type</th>\n",
       "      <th>text</th>\n",
       "    </tr>\n",
       "  </thead>\n",
       "  <tbody>\n",
       "    <tr>\n",
       "      <th>0</th>\n",
       "      <td>ham</td>\n",
       "      <td>go jurong point crazy available bugis n great ...</td>\n",
       "    </tr>\n",
       "    <tr>\n",
       "      <th>1</th>\n",
       "      <td>ham</td>\n",
       "      <td>ok lar joking wif u oni</td>\n",
       "    </tr>\n",
       "    <tr>\n",
       "      <th>2</th>\n",
       "      <td>spam</td>\n",
       "      <td>free entry wkly comp win fa cup final tkts st ...</td>\n",
       "    </tr>\n",
       "    <tr>\n",
       "      <th>3</th>\n",
       "      <td>ham</td>\n",
       "      <td>u dun say early hor u c already say</td>\n",
       "    </tr>\n",
       "    <tr>\n",
       "      <th>4</th>\n",
       "      <td>ham</td>\n",
       "      <td>nah think goes usf lives around though</td>\n",
       "    </tr>\n",
       "    <tr>\n",
       "      <th>5</th>\n",
       "      <td>spam</td>\n",
       "      <td>freemsg hey darling week word back like fun st...</td>\n",
       "    </tr>\n",
       "    <tr>\n",
       "      <th>6</th>\n",
       "      <td>ham</td>\n",
       "      <td>even brother like speak treat like aids patent</td>\n",
       "    </tr>\n",
       "    <tr>\n",
       "      <th>7</th>\n",
       "      <td>ham</td>\n",
       "      <td>per request melle melle oru minnaminunginte nu...</td>\n",
       "    </tr>\n",
       "    <tr>\n",
       "      <th>8</th>\n",
       "      <td>spam</td>\n",
       "      <td>winner valued network customer selected receiv...</td>\n",
       "    </tr>\n",
       "    <tr>\n",
       "      <th>9</th>\n",
       "      <td>spam</td>\n",
       "      <td>mobile months u r entitled update latest colou...</td>\n",
       "    </tr>\n",
       "    <tr>\n",
       "      <th>10</th>\n",
       "      <td>ham</td>\n",
       "      <td>gon na home soon want talk stuff anymore tonig...</td>\n",
       "    </tr>\n",
       "    <tr>\n",
       "      <th>11</th>\n",
       "      <td>spam</td>\n",
       "      <td>six chances win cash pounds txt csh send cost ...</td>\n",
       "    </tr>\n",
       "    <tr>\n",
       "      <th>12</th>\n",
       "      <td>spam</td>\n",
       "      <td>urgent week free membership prize jackpot txt ...</td>\n",
       "    </tr>\n",
       "    <tr>\n",
       "      <th>13</th>\n",
       "      <td>ham</td>\n",
       "      <td>searching right words thank breather promise w...</td>\n",
       "    </tr>\n",
       "    <tr>\n",
       "      <th>14</th>\n",
       "      <td>ham</td>\n",
       "      <td>date sunday</td>\n",
       "    </tr>\n",
       "    <tr>\n",
       "      <th>15</th>\n",
       "      <td>spam</td>\n",
       "      <td>xxxmobilemovieclub use credit click wap link n...</td>\n",
       "    </tr>\n",
       "    <tr>\n",
       "      <th>16</th>\n",
       "      <td>ham</td>\n",
       "      <td>oh k watching</td>\n",
       "    </tr>\n",
       "    <tr>\n",
       "      <th>17</th>\n",
       "      <td>ham</td>\n",
       "      <td>eh u remember spell name yes v naughty make v wet</td>\n",
       "    </tr>\n",
       "    <tr>\n",
       "      <th>18</th>\n",
       "      <td>ham</td>\n",
       "      <td>fine way u feel way gota b</td>\n",
       "    </tr>\n",
       "    <tr>\n",
       "      <th>19</th>\n",
       "      <td>spam</td>\n",
       "      <td>england v macedonia dont miss goals team news ...</td>\n",
       "    </tr>\n",
       "  </tbody>\n",
       "</table>\n",
       "</div>"
      ],
      "text/plain": [
       "    type                                               text\n",
       "0    ham  go jurong point crazy available bugis n great ...\n",
       "1    ham                            ok lar joking wif u oni\n",
       "2   spam  free entry wkly comp win fa cup final tkts st ...\n",
       "3    ham                u dun say early hor u c already say\n",
       "4    ham             nah think goes usf lives around though\n",
       "5   spam  freemsg hey darling week word back like fun st...\n",
       "6    ham     even brother like speak treat like aids patent\n",
       "7    ham  per request melle melle oru minnaminunginte nu...\n",
       "8   spam  winner valued network customer selected receiv...\n",
       "9   spam  mobile months u r entitled update latest colou...\n",
       "10   ham  gon na home soon want talk stuff anymore tonig...\n",
       "11  spam  six chances win cash pounds txt csh send cost ...\n",
       "12  spam  urgent week free membership prize jackpot txt ...\n",
       "13   ham  searching right words thank breather promise w...\n",
       "14   ham                                        date sunday\n",
       "15  spam  xxxmobilemovieclub use credit click wap link n...\n",
       "16   ham                                      oh k watching\n",
       "17   ham  eh u remember spell name yes v naughty make v wet\n",
       "18   ham                         fine way u feel way gota b\n",
       "19  spam  england v macedonia dont miss goals team news ..."
      ]
     },
     "execution_count": 14,
     "metadata": {},
     "output_type": "execute_result"
    }
   ],
   "source": [
    "dataset['text'] = dataset.apply(remove_numbers, axis=1)\n",
    "dataset['text'] = dataset.apply(remove_space_tabs, axis=1)\n",
    "dataset['text'] = dataset.apply(remove_websites, axis=1)\n",
    "dataset['text'] = dataset.apply(remove_tags, axis=1)\n",
    "\n",
    "for index, row in dataset.iterrows():\n",
    "    dataset['text'][index] = transform_to_lowercase(dataset['text'][index])\n",
    "    dataset['text'][index] = remove_special_characters(dataset['text'][index])\n",
    "    dataset['text'][index] = remove_stop_words(dataset['text'][index])\n",
    "    dataset['text'][index] = remove_emails(dataset['text'][index])\n",
    "    \n",
    "dataset.head(20)"
   ]
  },
  {
   "cell_type": "markdown",
   "metadata": {},
   "source": [
    "## APLICACION DE STEMMER."
   ]
  },
  {
   "cell_type": "code",
   "execution_count": 15,
   "metadata": {},
   "outputs": [
    {
     "data": {
      "text/html": [
       "<div>\n",
       "<style scoped>\n",
       "    .dataframe tbody tr th:only-of-type {\n",
       "        vertical-align: middle;\n",
       "    }\n",
       "\n",
       "    .dataframe tbody tr th {\n",
       "        vertical-align: top;\n",
       "    }\n",
       "\n",
       "    .dataframe thead th {\n",
       "        text-align: right;\n",
       "    }\n",
       "</style>\n",
       "<table border=\"1\" class=\"dataframe\">\n",
       "  <thead>\n",
       "    <tr style=\"text-align: right;\">\n",
       "      <th></th>\n",
       "      <th>type</th>\n",
       "      <th>text</th>\n",
       "      <th>stemmed</th>\n",
       "    </tr>\n",
       "  </thead>\n",
       "  <tbody>\n",
       "    <tr>\n",
       "      <th>0</th>\n",
       "      <td>ham</td>\n",
       "      <td>go jurong point crazy available bugis n great ...</td>\n",
       "      <td>go jurong point crazi avail bugi n great world...</td>\n",
       "    </tr>\n",
       "    <tr>\n",
       "      <th>1</th>\n",
       "      <td>ham</td>\n",
       "      <td>ok lar joking wif u oni</td>\n",
       "      <td>ok lar joke wif u oni</td>\n",
       "    </tr>\n",
       "    <tr>\n",
       "      <th>2</th>\n",
       "      <td>spam</td>\n",
       "      <td>free entry wkly comp win fa cup final tkts st ...</td>\n",
       "      <td>free entri wkli comp win fa cup final tkt st m...</td>\n",
       "    </tr>\n",
       "    <tr>\n",
       "      <th>3</th>\n",
       "      <td>ham</td>\n",
       "      <td>u dun say early hor u c already say</td>\n",
       "      <td>u dun say earli hor u c alreadi say</td>\n",
       "    </tr>\n",
       "    <tr>\n",
       "      <th>4</th>\n",
       "      <td>ham</td>\n",
       "      <td>nah think goes usf lives around though</td>\n",
       "      <td>nah think goe usf live around though</td>\n",
       "    </tr>\n",
       "    <tr>\n",
       "      <th>5</th>\n",
       "      <td>spam</td>\n",
       "      <td>freemsg hey darling week word back like fun st...</td>\n",
       "      <td>freemsg hey darl week word back like fun still...</td>\n",
       "    </tr>\n",
       "    <tr>\n",
       "      <th>6</th>\n",
       "      <td>ham</td>\n",
       "      <td>even brother like speak treat like aids patent</td>\n",
       "      <td>even brother like speak treat like aid patent</td>\n",
       "    </tr>\n",
       "    <tr>\n",
       "      <th>7</th>\n",
       "      <td>ham</td>\n",
       "      <td>per request melle melle oru minnaminunginte nu...</td>\n",
       "      <td>per request mell mell oru minnaminungint nurun...</td>\n",
       "    </tr>\n",
       "    <tr>\n",
       "      <th>8</th>\n",
       "      <td>spam</td>\n",
       "      <td>winner valued network customer selected receiv...</td>\n",
       "      <td>winner valu network custom select receivea pri...</td>\n",
       "    </tr>\n",
       "    <tr>\n",
       "      <th>9</th>\n",
       "      <td>spam</td>\n",
       "      <td>mobile months u r entitled update latest colou...</td>\n",
       "      <td>mobil month u r entitl updat latest colour mob...</td>\n",
       "    </tr>\n",
       "    <tr>\n",
       "      <th>10</th>\n",
       "      <td>ham</td>\n",
       "      <td>gon na home soon want talk stuff anymore tonig...</td>\n",
       "      <td>gon na home soon want talk stuff anymor tonigh...</td>\n",
       "    </tr>\n",
       "    <tr>\n",
       "      <th>11</th>\n",
       "      <td>spam</td>\n",
       "      <td>six chances win cash pounds txt csh send cost ...</td>\n",
       "      <td>six chanc win cash pound txt csh send cost p d...</td>\n",
       "    </tr>\n",
       "    <tr>\n",
       "      <th>12</th>\n",
       "      <td>spam</td>\n",
       "      <td>urgent week free membership prize jackpot txt ...</td>\n",
       "      <td>urgent week free membership prize jackpot txt ...</td>\n",
       "    </tr>\n",
       "    <tr>\n",
       "      <th>13</th>\n",
       "      <td>ham</td>\n",
       "      <td>searching right words thank breather promise w...</td>\n",
       "      <td>search right word thank breather promis wont t...</td>\n",
       "    </tr>\n",
       "    <tr>\n",
       "      <th>14</th>\n",
       "      <td>ham</td>\n",
       "      <td>date sunday</td>\n",
       "      <td>date sunday</td>\n",
       "    </tr>\n",
       "    <tr>\n",
       "      <th>15</th>\n",
       "      <td>spam</td>\n",
       "      <td>xxxmobilemovieclub use credit click wap link n...</td>\n",
       "      <td>xxxmobilemovieclub use credit click wap link n...</td>\n",
       "    </tr>\n",
       "    <tr>\n",
       "      <th>16</th>\n",
       "      <td>ham</td>\n",
       "      <td>oh k watching</td>\n",
       "      <td>oh k watch</td>\n",
       "    </tr>\n",
       "    <tr>\n",
       "      <th>17</th>\n",
       "      <td>ham</td>\n",
       "      <td>eh u remember spell name yes v naughty make v wet</td>\n",
       "      <td>eh u rememb spell name ye v naughti make v wet</td>\n",
       "    </tr>\n",
       "    <tr>\n",
       "      <th>18</th>\n",
       "      <td>ham</td>\n",
       "      <td>fine way u feel way gota b</td>\n",
       "      <td>fine way u feel way gota b</td>\n",
       "    </tr>\n",
       "    <tr>\n",
       "      <th>19</th>\n",
       "      <td>spam</td>\n",
       "      <td>england v macedonia dont miss goals team news ...</td>\n",
       "      <td>england v macedonia dont miss goal team news t...</td>\n",
       "    </tr>\n",
       "  </tbody>\n",
       "</table>\n",
       "</div>"
      ],
      "text/plain": [
       "    type                                               text  \\\n",
       "0    ham  go jurong point crazy available bugis n great ...   \n",
       "1    ham                            ok lar joking wif u oni   \n",
       "2   spam  free entry wkly comp win fa cup final tkts st ...   \n",
       "3    ham                u dun say early hor u c already say   \n",
       "4    ham             nah think goes usf lives around though   \n",
       "5   spam  freemsg hey darling week word back like fun st...   \n",
       "6    ham     even brother like speak treat like aids patent   \n",
       "7    ham  per request melle melle oru minnaminunginte nu...   \n",
       "8   spam  winner valued network customer selected receiv...   \n",
       "9   spam  mobile months u r entitled update latest colou...   \n",
       "10   ham  gon na home soon want talk stuff anymore tonig...   \n",
       "11  spam  six chances win cash pounds txt csh send cost ...   \n",
       "12  spam  urgent week free membership prize jackpot txt ...   \n",
       "13   ham  searching right words thank breather promise w...   \n",
       "14   ham                                        date sunday   \n",
       "15  spam  xxxmobilemovieclub use credit click wap link n...   \n",
       "16   ham                                      oh k watching   \n",
       "17   ham  eh u remember spell name yes v naughty make v wet   \n",
       "18   ham                         fine way u feel way gota b   \n",
       "19  spam  england v macedonia dont miss goals team news ...   \n",
       "\n",
       "                                              stemmed  \n",
       "0   go jurong point crazi avail bugi n great world...  \n",
       "1                               ok lar joke wif u oni  \n",
       "2   free entri wkli comp win fa cup final tkt st m...  \n",
       "3                 u dun say earli hor u c alreadi say  \n",
       "4                nah think goe usf live around though  \n",
       "5   freemsg hey darl week word back like fun still...  \n",
       "6       even brother like speak treat like aid patent  \n",
       "7   per request mell mell oru minnaminungint nurun...  \n",
       "8   winner valu network custom select receivea pri...  \n",
       "9   mobil month u r entitl updat latest colour mob...  \n",
       "10  gon na home soon want talk stuff anymor tonigh...  \n",
       "11  six chanc win cash pound txt csh send cost p d...  \n",
       "12  urgent week free membership prize jackpot txt ...  \n",
       "13  search right word thank breather promis wont t...  \n",
       "14                                        date sunday  \n",
       "15  xxxmobilemovieclub use credit click wap link n...  \n",
       "16                                         oh k watch  \n",
       "17     eh u rememb spell name ye v naughti make v wet  \n",
       "18                         fine way u feel way gota b  \n",
       "19  england v macedonia dont miss goal team news t...  "
      ]
     },
     "execution_count": 15,
     "metadata": {},
     "output_type": "execute_result"
    }
   ],
   "source": [
    "# Aplicacion del stemmer.\n",
    "stemmer = PorterStemmer()\n",
    "dataset['stemmed'] = dataset.text.apply(lambda x: ' '.join([stemmer.stem(w) for w in x.split() ]))\n",
    "dataset.head(20)"
   ]
  },
  {
   "cell_type": "markdown",
   "metadata": {},
   "source": [
    "## Normalizacion de los datos ( Bag of words)."
   ]
  },
  {
   "cell_type": "code",
   "execution_count": 20,
   "metadata": {},
   "outputs": [
    {
     "data": {
      "text/plain": [
       "(5574, 1397)"
      ]
     },
     "execution_count": 20,
     "metadata": {},
     "output_type": "execute_result"
    }
   ],
   "source": [
    "count_vect = CountVectorizer(\n",
    "    analyzer='word',        # a nivel de palabra\n",
    "    lowercase=True,         # convierte a minúsculas\n",
    "    stop_words='english',   # stop_words en inglés\n",
    "    binary=True,            # Los valores distintos de cero son fijados en 1\n",
    "    min_df=5                # ignora palabras con baja freq\n",
    ")\n",
    "\n",
    "\n",
    "##\n",
    "## Aplica la función al texto\n",
    "##\n",
    "dtm = count_vect.fit_transform(dataset.stemmed)\n",
    "\n",
    "vocabulary = count_vect.get_feature_names()\n",
    "\n",
    "##\n",
    "## Las filas contienen los mensajes\n",
    "## y las clomunas los términos\n",
    "##\n",
    "dtm.shape"
   ]
  },
  {
   "cell_type": "code",
   "execution_count": 21,
   "metadata": {},
   "outputs": [
    {
     "data": {
      "text/plain": [
       "['aathi',\n",
       " 'abiola',\n",
       " 'abl',\n",
       " 'abt',\n",
       " 'ac',\n",
       " 'acc',\n",
       " 'accept',\n",
       " 'access',\n",
       " 'account',\n",
       " 'act',\n",
       " 'activ',\n",
       " 'actual',\n",
       " 'ad',\n",
       " 'add',\n",
       " 'address',\n",
       " 'admir',\n",
       " 'ador',\n",
       " 'adult',\n",
       " 'advanc',\n",
       " 'advic',\n",
       " 'affair',\n",
       " 'affect',\n",
       " 'aft',\n",
       " 'afternoon',\n",
       " 'aftr',\n",
       " 'age',\n",
       " 'ago',\n",
       " 'ah',\n",
       " 'aha',\n",
       " 'ahead',\n",
       " 'ahmad',\n",
       " 'aight',\n",
       " 'air',\n",
       " 'airport',\n",
       " 'aiyah',\n",
       " 'aiyo',\n",
       " 'al',\n",
       " 'alert',\n",
       " 'alex',\n",
       " 'allah']"
      ]
     },
     "execution_count": 21,
     "metadata": {},
     "output_type": "execute_result"
    }
   ],
   "source": [
    "vocabulary[0:40]  # PRIMERAS 40 PALABRAS APRENDIDAS DE LOS MENSAJES DE TEXT0"
   ]
  },
  {
   "cell_type": "code",
   "execution_count": 33,
   "metadata": {},
   "outputs": [
    {
     "name": "stdout",
     "output_type": "stream",
     "text": [
      "Org:  go jurong point crazy available bugis n great world la e buffet cine got amore wat\n",
      "Mod:  avail bugi cine crazi got great la point wat world\n",
      "\n",
      "Org:  ok lar joking wif u oni\n",
      "Mod:  joke lar ok wif\n",
      "\n",
      "Org:  free entry wkly comp win fa cup final tkts st may text fa receive entry question std txt rate c apply\n",
      "Mod:  appli comp cup entri final free question rate receiv st std text txt win wkli\n",
      "\n",
      "Org:  u dun say early hor u c already say\n",
      "Mod:  alreadi dun earli say\n",
      "\n",
      "Org:  nah think goes usf lives around though\n",
      "Mod:  goe live nah think usf\n",
      "\n",
      "Org:  freemsg hey darling week word back like fun still tb ok xxx std chgs send rcv\n",
      "Mod:  darl freemsg fun hey like ok send std tb week word xxx\n",
      "\n",
      "Org:  even brother like speak treat like aids patent\n",
      "Mod:  brother like speak treat\n",
      "\n",
      "Org:  per request melle melle oru minnaminunginte nurungu vettam set callertune callers press copy friends callertune\n",
      "Mod:  caller callertun copi friend press request set\n",
      "\n",
      "Org:  winner valued network customer selected receivea prize reward claim call claim code kl valid hours\n",
      "Mod:  claim code custom hour network prize reward select valid valu winner\n",
      "\n",
      "Org:  mobile months u r entitled update latest colour mobiles camera free call mobile update co free\n",
      "Mod:  camera colour entitl free latest mobil month updat\n",
      "\n",
      "Org:  gon na home soon want talk stuff anymore tonight k cried enough today\n",
      "Mod:  anymor cri gon home na soon stuff talk today tonight want\n",
      "\n"
     ]
    }
   ],
   "source": [
    "##\n",
    "## Recupera los mensajes de la dtm\n",
    "##\n",
    "def dtm2words(dtm, vocabulary, index):\n",
    "    as_list = dtm[index,:].toarray().tolist()\n",
    "    docs = []\n",
    "    for i in index:\n",
    "        k = [vocabulary[iword] for iword, ifreq in enumerate(as_list[i]) if ifreq > 0]\n",
    "        docs += [k]\n",
    "    return docs\n",
    "\n",
    "for i, x in enumerate(dtm2words(dtm, vocabulary, [0, 1, 2, 3, 4, 5, 6, 7, 8, 9, 10])):\n",
    "    print('Org: ', dataset.text[i])\n",
    "    print('Mod: ', ' '.join(x))\n",
    "    print('')"
   ]
  },
  {
   "cell_type": "markdown",
   "metadata": {},
   "source": [
    "# Division de datos de entrenamiento y prueba.\n",
    "\n",
    "* 80 % Datos de entrenamiento\n",
    "\n",
    "* 20 % Datos de prueba"
   ]
  },
  {
   "cell_type": "code",
   "execution_count": 37,
   "metadata": {},
   "outputs": [],
   "source": [
    "##\n",
    "## Creación de los conjuntos de entrenamiento y prueba.\n",
    "##\n",
    "X_train      = dtm[0:4459,]  # 80 % datos de entrenamiento \n",
    "X_test       = dtm[4459:,]  # 20% datos de prueba\n",
    "y_train_true = dataset.type[0:4459] \n",
    "y_test_true  = dataset.type[4459:]"
   ]
  },
  {
   "cell_type": "code",
   "execution_count": 41,
   "metadata": {},
   "outputs": [
    {
     "data": {
      "text/plain": [
       "ham     86.5\n",
       "spam    13.5\n",
       "Name: type, dtype: float64"
      ]
     },
     "execution_count": 41,
     "metadata": {},
     "output_type": "execute_result"
    }
   ],
   "source": [
    "##\n",
    "## Distribución de los datos en el conjunto de entrenamiento.\n",
    "##\n",
    "round(100 * y_train_true.value_counts() / sum(y_train_true.value_counts()), 1)"
   ]
  },
  {
   "cell_type": "code",
   "execution_count": 42,
   "metadata": {},
   "outputs": [
    {
     "data": {
      "text/plain": [
       "ham     87.0\n",
       "spam    13.0\n",
       "Name: type, dtype: float64"
      ]
     },
     "execution_count": 42,
     "metadata": {},
     "output_type": "execute_result"
    }
   ],
   "source": [
    "##\n",
    "## Distribución de los datos en el conjunto de testing.\n",
    "##\n",
    "round(100 * y_test_true.value_counts() / sum(y_test_true.value_counts()), 1)"
   ]
  },
  {
   "cell_type": "code",
   "execution_count": 43,
   "metadata": {},
   "outputs": [
    {
     "data": {
      "image/png": "[encoded data removed]",
      "text/plain": [
       "<Figure size 432x288 with 2 Axes>"
      ]
     },
     "metadata": {
      "needs_background": "light"
     },
     "output_type": "display_data"
    }
   ],
   "source": [
    "base_model = LogisticRegression(random_state=123).fit(X_train, y_train_true)\n",
    "cm = plot_confusion_matrix(base_model, X_test, y_test_true,\n",
    "                           display_labels=['ham', 'spam'],\n",
    "                           cmap=plt.cm.Blues,\n",
    "                           normalize='true')\n",
    "cm.ax_.set_title(\"Matriz de confusion normalizada\")\n",
    "plt.show()"
   ]
  },
  {
   "cell_type": "code",
   "execution_count": null,
   "metadata": {},
   "outputs": [],
   "source": []
  }
 ],
 "metadata": {
  "kernelspec": {
   "display_name": "Python 3",
   "language": "python",
   "name": "python3"
  },
  "language_info": {
   "codemirror_mode": {
    "name": "ipython",
    "version": 3
   },
   "file_extension": ".py",
   "mimetype": "text/x-python",
   "name": "python",
   "nbconvert_exporter": "python",
   "pygments_lexer": "ipython3",
   "version": "3.7.3"
  }
 },
 "nbformat": 4,
 "nbformat_minor": 2
}
