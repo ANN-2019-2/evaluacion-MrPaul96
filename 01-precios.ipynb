{
  "nbformat": 4,
  "nbformat_minor": 0,
  "metadata": {
    "colab": {
      "name": "Copia de Untitled3.ipynb",
      "provenance": []
    },
    "kernelspec": {
      "display_name": "Python 3",
      "language": "python",
      "name": "python3"
    },
    "language_info": {
      "codemirror_mode": {
        "name": "ipython",
        "version": 3
      },
      "file_extension": ".py",
      "mimetype": "text/x-python",
      "name": "python",
      "nbconvert_exporter": "python",
      "pygments_lexer": "ipython3",
      "version": "3.6.7"
    }
  },
  "cells": [
    {
      "cell_type": "code",
      "metadata": {
        "colab_type": "code",
        "id": "n3lnWjvI83ix",
        "colab": {}
      },
      "source": [
        "# Pronóstico adaptativo"
      ],
      "execution_count": 0,
      "outputs": []
    },
    {
      "cell_type": "markdown",
      "metadata": {
        "id": "BUbzfumortyU",
        "colab_type": "text"
      },
      "source": [
        "## Descripción del problema real"
      ]
    },
    {
      "cell_type": "markdown",
      "metadata": {
        "id": "g0xKs8jurtyX",
        "colab_type": "text"
      },
      "source": [
        "Los pronósticos de los precios de la electricidad en mercados liberalizados son un insumo fundamental para la toma de decisiones dentro de las organizaciones. Fundamentalmente, los pronosticos de corto plazo son utilizados en decisiones de carácter operativo. En el caso abordado, es necesario contar con los pronósticos para definir la politica de operación de una empresa del sector eléctrico."
      ]
    },
    {
      "cell_type": "markdown",
      "metadata": {
        "id": "6uKeTDsyrtyY",
        "colab_type": "text"
      },
      "source": [
        "## Descripción del problema en términos de los datos"
      ]
    },
    {
      "cell_type": "markdown",
      "metadata": {
        "id": "fnwV9Yv1rtyZ",
        "colab_type": "text"
      },
      "source": [
        "La carpeta `datos/precios/` contiene los precios historicos horarios de la electricidad en la Bolsa de Energía del mercado eléctrico colombiano, publicados por el operador del mercado. Se desean obtener pronósticos para el precio promedio diario para los próximos siete (7) días a la fecha actual."
      ]
    },
    {
      "cell_type": "markdown",
      "metadata": {
        "id": "iZ12fc27rtyb",
        "colab_type": "text"
      },
      "source": [
        "## Aproximaciones posibles"
      ]
    },
    {
      "cell_type": "markdown",
      "metadata": {
        "id": "86VqW312rtye",
        "colab_type": "text"
      },
      "source": [
        "En este caso, se desea evaluar la capacidad de pronóstico de un ADALINE con aprendizaje en línea."
      ]
    },
    {
      "cell_type": "markdown",
      "metadata": {
        "id": "u74uCQA0rtyg",
        "colab_type": "text"
      },
      "source": [
        "## Requerimientos"
      ]
    },
    {
      "cell_type": "markdown",
      "metadata": {
        "id": "ySxIASksrtyj",
        "colab_type": "text"
      },
      "source": [
        "Usted debe:\n",
        "\n",
        "* Procesar los datos históricos para conformar el conjunto de datos. Los archivos de Excel no pueden ser modificados y actualizados directamente por el operador del sistema. Su código debe leer los archivos y crear la serie de precios promedio diarios de la electricidad.\n",
        "\n",
        "\n",
        "* Determinar si el modelo debe pronosticar los precios promedios sin ninguna transformación, o si la inclusión de una transformación (logaritmo natural, raíz cúbica, raíz cuadrada, etc) resulta en un incremento de la precisión del pronóstico.\n",
        "\n",
        "\n",
        "* Generar el pronóstico para los precios de los próximos siete días.\n",
        "\n",
        "\n",
        "* Preparar el código para que el modelo sea entrenado usando el gradiente y el momentum.\n",
        "\n",
        "\n",
        "* Determinar cuál es el número óptimo de retardos (observaciones) que el modelo debe considerar hacia atrás para producir el pronóstico.\n",
        "\n",
        "\n",
        "* Determinar los valores óptimos de la tasa de aprendizaje y el momentum.\n"
      ]
    },
    {
      "cell_type": "code",
      "metadata": {
        "id": "FGleHKx-rvTs",
        "colab_type": "code",
        "colab": {
          "base_uri": "https://localhost:8080/",
          "height": 34
        },
        "outputId": "b6aff307-9e6a-45d5-bad7-44bc809acd02"
      },
      "source": [
        "print('hola')"
      ],
      "execution_count": 1,
      "outputs": [
        {
          "output_type": "stream",
          "text": [
            "hola\n"
          ],
          "name": "stdout"
        }
      ]
    }
  ]
}